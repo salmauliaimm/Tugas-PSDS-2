{
  "nbformat": 4,
  "nbformat_minor": 0,
  "metadata": {
    "colab": {
      "provenance": []
    },
    "kernelspec": {
      "name": "python3",
      "display_name": "Python 3"
    },
    "language_info": {
      "name": "python"
    }
  },
  "cells": [
    {
      "cell_type": "code",
      "execution_count": null,
      "metadata": {
        "id": "pwkrLpliDHqL"
      },
      "outputs": [],
      "source": []
    },
    {
      "cell_type": "markdown",
      "source": [
        "OPERATOR\n",
        "\n",
        "Operator simbol simbol yang dapat digunakan untuk mengubah nilai dari satu variabel dengan melibatkan satu atau lebih variabel dan literal. Tipe tipe operator:\n",
        "\n",
        "1. Operator Aritmatika\n",
        "2. Operator Assignment\n",
        "3. Operator Pembanding\n",
        "4. Operator Logika\n",
        "5. Operator Membership"
      ],
      "metadata": {
        "id": "N7R2cn0mFGBf"
      }
    },
    {
      "cell_type": "markdown",
      "source": [
        "1. Operator Aritmatika\n",
        "\n",
        "Operator Aritmatika digunakan untuk melkaukan operasi matematika yang umum.\n",
        "\n",
        "Macam macam Operator Aritmatika, yaitu:\n",
        "\n",
        "+: Penjumlahan\n",
        "- : Pengurangan\n",
        "* : Perkalian\n",
        "/ : Pembagian\n",
        "% : Modulus\n",
        "** : Perpangkatan\n",
        "// : Pembagian dengan hasil pembulatan flooring"
      ],
      "metadata": {
        "id": "I8buYT4kFOdg"
      }
    },
    {
      "cell_type": "code",
      "source": [
        "#Penjumlahan\n",
        "print('Penjumlahan')\n",
        "print(5+9)\n"
      ],
      "metadata": {
        "colab": {
          "base_uri": "https://localhost:8080/"
        },
        "id": "4da3tSVhFbZE",
        "outputId": "7bc96a4e-0710-4636-a48c-cf6c9e9b8d7d"
      },
      "execution_count": 1,
      "outputs": [
        {
          "output_type": "stream",
          "name": "stdout",
          "text": [
            "Penjumlahan\n",
            "14\n"
          ]
        }
      ]
    },
    {
      "cell_type": "code",
      "source": [
        "#Pengurangan\n",
        "print('Pengurangan')\n",
        "print('-'*20)\n",
        "print(2-8)\n",
        "\n"
      ],
      "metadata": {
        "colab": {
          "base_uri": "https://localhost:8080/"
        },
        "id": "gmgBMYqDFq8E",
        "outputId": "0f1140e6-e88b-4244-f5f6-ce67e24c8e75"
      },
      "execution_count": 2,
      "outputs": [
        {
          "output_type": "stream",
          "name": "stdout",
          "text": [
            "Pengurangan\n",
            "--------------------\n",
            "-6\n"
          ]
        }
      ]
    },
    {
      "cell_type": "code",
      "source": [
        "#Perkalian\n",
        "print('Perkalian')\n",
        "print('-'*20)\n",
        "print(7*3)\n"
      ],
      "metadata": {
        "colab": {
          "base_uri": "https://localhost:8080/"
        },
        "id": "6fZs1nBzFwPN",
        "outputId": "d70ac4c2-12a3-4b64-8cbd-9ce0a4500f6f"
      },
      "execution_count": 3,
      "outputs": [
        {
          "output_type": "stream",
          "name": "stdout",
          "text": [
            "Perkalian\n",
            "--------------------\n",
            "21\n"
          ]
        }
      ]
    },
    {
      "cell_type": "code",
      "source": [
        "#Pembagian\n",
        "print('Pembagian')\n",
        "print('-'*20)\n",
        "print(12/2)\n"
      ],
      "metadata": {
        "colab": {
          "base_uri": "https://localhost:8080/"
        },
        "id": "wOOu2XldF5e7",
        "outputId": "fa624d6e-bc30-40f8-8cbb-52a087217455"
      },
      "execution_count": 4,
      "outputs": [
        {
          "output_type": "stream",
          "name": "stdout",
          "text": [
            "Pembagian\n",
            "--------------------\n",
            "6.0\n"
          ]
        }
      ]
    },
    {
      "cell_type": "code",
      "source": [
        "#Modulus\n",
        "print('Modulus')\n",
        "print('-'*20)\n",
        "print(5%2)\n",
        "\n"
      ],
      "metadata": {
        "colab": {
          "base_uri": "https://localhost:8080/"
        },
        "id": "yVoe5qLkF-yi",
        "outputId": "9145b28b-b9b0-41bd-a33a-c90f768605e0"
      },
      "execution_count": 5,
      "outputs": [
        {
          "output_type": "stream",
          "name": "stdout",
          "text": [
            "Modulus\n",
            "--------------------\n",
            "1\n"
          ]
        }
      ]
    },
    {
      "cell_type": "code",
      "source": [
        "#Perpangkatan\n",
        "print('Perpangkatan')\n",
        "print('-'*20)\n",
        "print(8**3)\n"
      ],
      "metadata": {
        "colab": {
          "base_uri": "https://localhost:8080/"
        },
        "id": "5y-kjZl_GCbS",
        "outputId": "8b3649fd-50f9-4226-e5b9-107b5a610312"
      },
      "execution_count": 6,
      "outputs": [
        {
          "output_type": "stream",
          "name": "stdout",
          "text": [
            "Perpangkatan\n",
            "--------------------\n",
            "512\n"
          ]
        }
      ]
    },
    {
      "cell_type": "code",
      "source": [
        "#Pembagian dengan hasil pembulatan flooring\n",
        "print('Pembagian pembulatan flooring')\n",
        "print('-'*20)\n",
        "print(18//2)"
      ],
      "metadata": {
        "colab": {
          "base_uri": "https://localhost:8080/"
        },
        "id": "nR8IcEvFGHZT",
        "outputId": "f807adfd-84f5-4792-a57b-16a13b76a016"
      },
      "execution_count": 7,
      "outputs": [
        {
          "output_type": "stream",
          "name": "stdout",
          "text": [
            "Pembagian pembulatan flooring\n",
            "--------------------\n",
            "9\n"
          ]
        }
      ]
    },
    {
      "cell_type": "markdown",
      "source": [
        "2. Operator Assignment\n",
        "\n",
        "Operator Assignment digunakan untuk menyimpan nilai menjadi suatu variabel\n",
        "\n",
        "= : Contohnya x = 5 -> x = 5\n",
        "+= : Contohnya x = x + 5 -> x + 5\n",
        "-= : Contohnya x = x -5 -> x = 5\n",
        "*= : Contohnya x x 5 -> x = 5\n",
        "/= : Contohnya x = x / 5 -> x = 5\n",
        "%= : Contohnya x = x % 5 -> x %= 5\n",
        "//= : Contohnya x = x // 5 -> x // = 5\n",
        "**= : Contohnya x = x ** 5 -> x **= 5"
      ],
      "metadata": {
        "id": "qCCwrB4kGWf_"
      }
    },
    {
      "cell_type": "code",
      "source": [
        "#Penjumlahan\n",
        "print('Penjumlahan')\n",
        "x=3\n",
        "x=x+3\n",
        "print(x)\n",
        "x=3\n",
        "x+=3\n",
        "print(x)\n",
        "print('-'*20)\n"
      ],
      "metadata": {
        "colab": {
          "base_uri": "https://localhost:8080/"
        },
        "id": "cZjpg92nGtdL",
        "outputId": "8e9e0730-12a1-4c65-821b-efcd1d07607a"
      },
      "execution_count": 8,
      "outputs": [
        {
          "output_type": "stream",
          "name": "stdout",
          "text": [
            "Penjumlahan\n",
            "6\n",
            "6\n",
            "--------------------\n"
          ]
        }
      ]
    },
    {
      "cell_type": "code",
      "source": [
        "#Pengurangan\n",
        "print('Pengurangan')\n",
        "x=5\n",
        "x=x-5\n",
        "print(x)\n",
        "x=5\n",
        "x-=3\n",
        "print(x)\n",
        "print('-'*20)\n"
      ],
      "metadata": {
        "colab": {
          "base_uri": "https://localhost:8080/"
        },
        "id": "FPhmq2uFHYp3",
        "outputId": "3ecf6bab-35b4-4526-cf29-c4b833d40a5a"
      },
      "execution_count": 12,
      "outputs": [
        {
          "output_type": "stream",
          "name": "stdout",
          "text": [
            "Pengurangan\n",
            "0\n",
            "2\n",
            "--------------------\n"
          ]
        }
      ]
    },
    {
      "cell_type": "code",
      "source": [
        "#Perkalian\n",
        "print('Perkalian')\n",
        "x=3\n",
        "x=x*3\n",
        "print(x)\n",
        "x=3\n",
        "x*=3\n",
        "print(x)\n",
        "print('-'*20)\n"
      ],
      "metadata": {
        "colab": {
          "base_uri": "https://localhost:8080/"
        },
        "id": "gmrTY1azIbQp",
        "outputId": "45348de8-e616-41ae-fd5c-04e0753537e9"
      },
      "execution_count": 13,
      "outputs": [
        {
          "output_type": "stream",
          "name": "stdout",
          "text": [
            "Perkalian\n",
            "9\n",
            "9\n",
            "--------------------\n"
          ]
        }
      ]
    },
    {
      "cell_type": "code",
      "source": [
        "#Pembagian\n",
        "print('pembagian')\n",
        "x=4\n",
        "x=x/4\n",
        "print(x)\n",
        "x=4\n",
        "x/=2\n",
        "print(x)\n",
        "print('-'*20)\n"
      ],
      "metadata": {
        "colab": {
          "base_uri": "https://localhost:8080/"
        },
        "id": "TI6nWB1SIz7r",
        "outputId": "8972ad58-f2aa-4d65-f17d-e173c91d465a"
      },
      "execution_count": 14,
      "outputs": [
        {
          "output_type": "stream",
          "name": "stdout",
          "text": [
            "pembagian\n",
            "1.0\n",
            "2.0\n",
            "--------------------\n"
          ]
        }
      ]
    },
    {
      "cell_type": "code",
      "source": [
        "#Modulus\n",
        "print('Modulus')\n",
        "x=10\n",
        "x=x%10\n",
        "print(x)\n",
        "x=10\n",
        "x%=3\n",
        "print(x)\n",
        "print('-'*20)\n"
      ],
      "metadata": {
        "colab": {
          "base_uri": "https://localhost:8080/"
        },
        "id": "FGWzYh5xJcCo",
        "outputId": "a0077afb-7f5c-4dee-c6af-f3b2afebd8c5"
      },
      "execution_count": 15,
      "outputs": [
        {
          "output_type": "stream",
          "name": "stdout",
          "text": [
            "Modulus\n",
            "0\n",
            "1\n",
            "--------------------\n"
          ]
        }
      ]
    },
    {
      "cell_type": "code",
      "source": [
        "#Pembagian Flooring\n",
        "print('Pembagian Flooring')\n",
        "x=6\n",
        "x=x//3\n",
        "print(x)\n",
        "x=9\n",
        "x//=3\n",
        "print(x)\n",
        "print('-'*20)\n"
      ],
      "metadata": {
        "colab": {
          "base_uri": "https://localhost:8080/"
        },
        "id": "hVswumuBJp14",
        "outputId": "5d64a113-b196-42f9-bb82-39b68023abb4"
      },
      "execution_count": 16,
      "outputs": [
        {
          "output_type": "stream",
          "name": "stdout",
          "text": [
            "Pembagian Flooring\n",
            "2\n",
            "3\n",
            "--------------------\n"
          ]
        }
      ]
    },
    {
      "cell_type": "code",
      "source": [
        "#Perpangkatan\n",
        "print('Perpangkatan')\n",
        "x=10\n",
        "x=x**5\n",
        "print(x)\n",
        "x=9\n",
        "x**=3\n",
        "print (x)\n",
        "print('-'*20)"
      ],
      "metadata": {
        "colab": {
          "base_uri": "https://localhost:8080/"
        },
        "id": "H7CKTNTEJv4w",
        "outputId": "474371f7-0582-48e2-e1e6-2faca293c997"
      },
      "execution_count": 17,
      "outputs": [
        {
          "output_type": "stream",
          "name": "stdout",
          "text": [
            "Perpangkatan\n",
            "100000\n",
            "729\n",
            "--------------------\n"
          ]
        }
      ]
    },
    {
      "cell_type": "markdown",
      "source": [
        "3. Operator Pembanding\n",
        "\n",
        "Operator Pembanding digunakan untuk membandingkan 2 nilai atau variabel\n",
        "\n",
        "Macam macam Operator pembanding:\n",
        "\n",
        "== -> samadengan\n",
        "!= -> tidak sama dengan\n",
        "> -> lebih dari\n",
        "< -> kurang dari\n",
        ">= -> lebih dari dan samadengan\n",
        "<=  -> kurang dari dan samadengan"
      ],
      "metadata": {
        "id": "AvwQLXA0J9cb"
      }
    },
    {
      "cell_type": "code",
      "source": [
        "print(4==4)\n",
        "print(6!=2)\n",
        "print (2>8)\n",
        "print(2<2)\n",
        "print (2>=6)\n",
        "print(2<=2)"
      ],
      "metadata": {
        "colab": {
          "base_uri": "https://localhost:8080/"
        },
        "id": "5UxLefKrKmz5",
        "outputId": "830faeb1-fb0b-4cd0-dcd7-2c6daff8dba4"
      },
      "execution_count": 22,
      "outputs": [
        {
          "output_type": "stream",
          "name": "stdout",
          "text": [
            "True\n",
            "True\n",
            "False\n",
            "False\n",
            "False\n",
            "True\n"
          ]
        }
      ]
    },
    {
      "cell_type": "markdown",
      "source": [
        "4. Operator Logika\n",
        "\n",
        "Operator logika digunakan untuk mengkombinasikan statement statement kondisional\n",
        "\n",
        "Macam macam opertaor logika:\n",
        "\n",
        "and -> kondisi menjadi benar apabila semua statementnya benar\n",
        "or -> kondisi menjadi benar apabila salah satu statementnya ada yang benar\n",
        "not -> membalik hasil adri benar ke salah dan salah ke benar"
      ],
      "metadata": {
        "id": "Cmq1U_6BK69w"
      }
    },
    {
      "cell_type": "code",
      "source": [
        "print(True and False)\n",
        "print(False or False)\n",
        "print(not False and True)"
      ],
      "metadata": {
        "colab": {
          "base_uri": "https://localhost:8080/"
        },
        "id": "G2tlDN9sLFTh",
        "outputId": "dfce4938-53b6-44a8-d3b4-cd74e82defba"
      },
      "execution_count": 24,
      "outputs": [
        {
          "output_type": "stream",
          "name": "stdout",
          "text": [
            "False\n",
            "False\n",
            "True\n"
          ]
        }
      ]
    },
    {
      "cell_type": "markdown",
      "source": [
        "5. Operator Membership/Keanggotaan\n",
        "\n",
        "Operator keanggotaan digunakan untuk menguji apakah urutan disajikan dalam suatu objek\n",
        "\n",
        "Macam macam operator Keanggotaan:\n",
        "\n",
        "in -> return True ketika nilai tertentu dalam sebuah urutan ada\n",
        "not in -> return True ketika nilai tertentu dalam sebuah uruta tidak ada"
      ],
      "metadata": {
        "id": "d30eff4OLbZf"
      }
    },
    {
      "cell_type": "code",
      "source": [
        "a=(1,2,3,4,5,6)\n",
        "b=4\n",
        "print(b in a)\n",
        "print(\"-\"*20)\n"
      ],
      "metadata": {
        "colab": {
          "base_uri": "https://localhost:8080/"
        },
        "id": "aX778Q6dLfmx",
        "outputId": "170726bc-eda4-49e7-ce77-020e2ef91a71"
      },
      "execution_count": 25,
      "outputs": [
        {
          "output_type": "stream",
          "name": "stdout",
          "text": [
            "True\n",
            "--------------------\n"
          ]
        }
      ]
    },
    {
      "cell_type": "code",
      "source": [
        "a=(1,2,3,4,5,6)\n",
        "b=5\n",
        "print(b not in a)"
      ],
      "metadata": {
        "colab": {
          "base_uri": "https://localhost:8080/"
        },
        "id": "J3Mqq_9dLnbS",
        "outputId": "41868dd5-746a-42b1-e372-844e5e310cfa"
      },
      "execution_count": 27,
      "outputs": [
        {
          "output_type": "stream",
          "name": "stdout",
          "text": [
            "False\n"
          ]
        }
      ]
    },
    {
      "cell_type": "markdown",
      "source": [
        "VARIABEL\n",
        "\n",
        "Variabel: Lokal penyimpanan yang dapat digunakan untuk menampung sebuah data atau informasi.\n",
        "\n",
        "Syarat syarat penamaan variabel\n",
        "\n",
        "1. Karakter - karakter yang digunakan untuk penamaan variable adalah alphabet, angka dan underscore.\n",
        "2. Karakter pertama variabel harus berupa huruf atau garis bawah/underscore, dan tidak bisa berupa angka 3. Nama sebuah variabel tidak bisa menggunakan keyword atau reserved words dari bahasa python seperti for, if dan lainnya\n",
        "4. Karakter pada nama variabel bersifat sensitif (case-sensitif)"
      ],
      "metadata": {
        "id": "1p79u8dOLzKb"
      }
    },
    {
      "cell_type": "code",
      "source": [
        "# membuat variabel\n",
        "kalimat = 'ini adalah variabel'\n",
        "bilangan1 = 8\n",
        "bilangan2 = 5.8\n",
        "bilangan3 = True\n",
        "bilangan4 = 2j + 4\n"
      ],
      "metadata": {
        "id": "Ku9Kc39fL9Cp"
      },
      "execution_count": 33,
      "outputs": []
    },
    {
      "cell_type": "code",
      "source": [
        "# menampilkan variabel\n",
        "print(kalimat)\n",
        "print(bilangan1)\n",
        "print(bilangan2)\n",
        "print(bilangan3)\n",
        "print(bilangan4)"
      ],
      "metadata": {
        "colab": {
          "base_uri": "https://localhost:8080/"
        },
        "id": "0XFhurOAMMHM",
        "outputId": "a10448e7-0cd2-44e0-a287-18f9665752b8"
      },
      "execution_count": 34,
      "outputs": [
        {
          "output_type": "stream",
          "name": "stdout",
          "text": [
            "ini adalah variabel\n",
            "8\n",
            "5.8\n",
            "True\n",
            "(4+2j)\n"
          ]
        }
      ]
    },
    {
      "cell_type": "markdown",
      "source": [
        "TIPE DATA & KONVERSI TIPE DATA\n",
        "\n",
        "Tipe Data\n",
        "\n",
        "5 tipe data yaitu\n",
        "\n",
        "1. Integr atau bilangan bulat\n",
        "2. Float atau bilangan desimal\n",
        "3. string atau kalimat\n",
        "4. Boolean yang terdiri dari True dan False\n",
        "5. Complex yang merupakan bilangan kompleks"
      ],
      "metadata": {
        "id": "DS1vYZ-gMWWz"
      }
    },
    {
      "cell_type": "code",
      "source": [
        "# menampilkan tipe data\n",
        "print(type(kalimat))\n",
        "print(type (bilangan1))\n",
        "print(type(bilangan2))\n",
        "print(type (bilangan3))\n",
        "print(type(bilangan4))"
      ],
      "metadata": {
        "colab": {
          "base_uri": "https://localhost:8080/"
        },
        "id": "_nM2ffwEMims",
        "outputId": "79bd4fa8-c380-4d7c-e916-1b79d7222f21"
      },
      "execution_count": 35,
      "outputs": [
        {
          "output_type": "stream",
          "name": "stdout",
          "text": [
            "<class 'str'>\n",
            "<class 'int'>\n",
            "<class 'float'>\n",
            "<class 'bool'>\n",
            "<class 'complex'>\n"
          ]
        }
      ]
    },
    {
      "cell_type": "code",
      "source": [
        "#Konversi Tipe Data\n",
        "\n",
        "# konversi tipe data integer\n",
        "print(int(bilangan3))\n"
      ],
      "metadata": {
        "colab": {
          "base_uri": "https://localhost:8080/"
        },
        "id": "S3Mr6YV2Msvt",
        "outputId": "e5cdf503-243d-423d-c454-ca015724ed93"
      },
      "execution_count": 36,
      "outputs": [
        {
          "output_type": "stream",
          "name": "stdout",
          "text": [
            "1\n"
          ]
        }
      ]
    },
    {
      "cell_type": "code",
      "source": [
        "#konversi tipe data float\n",
        "print(float(bilangan1))\n",
        "print(float(bilangan3))\n"
      ],
      "metadata": {
        "colab": {
          "base_uri": "https://localhost:8080/"
        },
        "id": "hKiOm2N_Om-v",
        "outputId": "755fdfdb-f98d-4d91-cfc4-16537cade7d8"
      },
      "execution_count": 37,
      "outputs": [
        {
          "output_type": "stream",
          "name": "stdout",
          "text": [
            "8.0\n",
            "1.0\n"
          ]
        }
      ]
    },
    {
      "cell_type": "code",
      "source": [
        "# konversi tipe data string\n",
        "print(str(bilangan1))\n",
        "print(str(bilangan2))\n",
        "print(str(bilangan3))\n"
      ],
      "metadata": {
        "colab": {
          "base_uri": "https://localhost:8080/"
        },
        "id": "WZqwNkLNO3WX",
        "outputId": "7000f9ce-14e7-48ca-a9b3-f80c87768f98"
      },
      "execution_count": 38,
      "outputs": [
        {
          "output_type": "stream",
          "name": "stdout",
          "text": [
            "8\n",
            "5.8\n",
            "True\n"
          ]
        }
      ]
    },
    {
      "cell_type": "code",
      "source": [
        "# konversi tipe data bool\n",
        "print(bool (bilangan1))\n",
        "print(bool (bilangan2))\n"
      ],
      "metadata": {
        "colab": {
          "base_uri": "https://localhost:8080/"
        },
        "id": "1C5Unz-MO9H6",
        "outputId": "3a595fe7-e463-4e5a-8988-08122c39b09c"
      },
      "execution_count": 39,
      "outputs": [
        {
          "output_type": "stream",
          "name": "stdout",
          "text": [
            "True\n",
            "True\n"
          ]
        }
      ]
    },
    {
      "cell_type": "code",
      "source": [
        "# konversi tipe data complex\n",
        "print(complex(bilangan1))\n",
        "print(complex (bilangan2))\n",
        "print(complex (bilangan3))"
      ],
      "metadata": {
        "colab": {
          "base_uri": "https://localhost:8080/"
        },
        "id": "t9JsDoBXPNWN",
        "outputId": "34f768dc-7b6b-4e98-ae5d-695eac31338a"
      },
      "execution_count": 41,
      "outputs": [
        {
          "output_type": "stream",
          "name": "stdout",
          "text": [
            "(8+0j)\n",
            "(5.8+0j)\n",
            "(1+0j)\n"
          ]
        }
      ]
    }
  ]
}